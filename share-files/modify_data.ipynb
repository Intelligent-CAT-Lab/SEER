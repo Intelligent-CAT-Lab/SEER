{
 "cells": [
  {
   "attachments": {},
   "cell_type": "markdown",
   "metadata": {},
   "source": [
    "# Modifies data from TOGA* as specified below"
   ]
  },
  {
   "cell_type": "code",
   "execution_count": 1,
   "metadata": {},
   "outputs": [],
   "source": [
    "# The dataset is located at : RQ2/toga-model-inputs-outputs. \n",
    "# input.csv that's the input file where each row contains three information \n",
    "    # 1. focus method (the method being tested) \n",
    "    # 2, a test case with test assertions (you will need to remove that) \n",
    "    # 3) docstring (not necessary for SEER).\n",
    "import pandas as pd\n",
    "import numpy as np\n",
    "import matplotlib.pyplot as plt\n",
    "import os\n",
    "import re\n",
    "\n",
    "folder_dir = './toga-model-inputs-outputs'"
   ]
  },
  {
   "cell_type": "code",
   "execution_count": 37,
   "metadata": {},
   "outputs": [
    {
     "data": {
      "text/html": [
       "<div>\n",
       "<style scoped>\n",
       "    .dataframe tbody tr th:only-of-type {\n",
       "        vertical-align: middle;\n",
       "    }\n",
       "\n",
       "    .dataframe tbody tr th {\n",
       "        vertical-align: top;\n",
       "    }\n",
       "\n",
       "    .dataframe thead th {\n",
       "        text-align: right;\n",
       "    }\n",
       "</style>\n",
       "<table border=\"1\" class=\"dataframe\">\n",
       "  <thead>\n",
       "    <tr style=\"text-align: right;\">\n",
       "      <th></th>\n",
       "      <th>dataset</th>\n",
       "      <th>project</th>\n",
       "      <th>bug_id</th>\n",
       "      <th>C</th>\n",
       "      <th>T</th>\n",
       "      <th>label</th>\n",
       "    </tr>\n",
       "  </thead>\n",
       "  <tbody>\n",
       "    <tr>\n",
       "      <th>0</th>\n",
       "      <td>toga*</td>\n",
       "      <td>commons-imaging-1.0-alpha3-src</td>\n",
       "      <td>-1</td>\n",
       "      <td>public boolean isProgressive() { return progre...</td>\n",
       "      <td>public void test21() throws Throwable { Linked...</td>\n",
       "      <td>P</td>\n",
       "    </tr>\n",
       "    <tr>\n",
       "      <th>1</th>\n",
       "      <td>toga*</td>\n",
       "      <td>commons-imaging-1.0-alpha3-src</td>\n",
       "      <td>-1</td>\n",
       "      <td>public int getPhysicalWidthDpi() { return phys...</td>\n",
       "      <td>public void test22() throws Throwable { Linked...</td>\n",
       "      <td>P</td>\n",
       "    </tr>\n",
       "    <tr>\n",
       "      <th>2</th>\n",
       "      <td>toga*</td>\n",
       "      <td>commons-imaging-1.0-alpha3-src</td>\n",
       "      <td>-1</td>\n",
       "      <td>public float getPhysicalHeightInch() { return ...</td>\n",
       "      <td>public void test23() throws Throwable { Linked...</td>\n",
       "      <td>P</td>\n",
       "    </tr>\n",
       "    <tr>\n",
       "      <th>3</th>\n",
       "      <td>toga*</td>\n",
       "      <td>commons-imaging-1.0-alpha3-src</td>\n",
       "      <td>-1</td>\n",
       "      <td>public int getNumberOfImages() { return number...</td>\n",
       "      <td>public void test24() throws Throwable { Linked...</td>\n",
       "      <td>P</td>\n",
       "    </tr>\n",
       "    <tr>\n",
       "      <th>4</th>\n",
       "      <td>toga*</td>\n",
       "      <td>commons-imaging-1.0-alpha3-src</td>\n",
       "      <td>-1</td>\n",
       "      <td>public String getMimeType() { return mimeType; }</td>\n",
       "      <td>public void test25() throws Throwable { Linked...</td>\n",
       "      <td>P</td>\n",
       "    </tr>\n",
       "    <tr>\n",
       "      <th>...</th>\n",
       "      <td>...</td>\n",
       "      <td>...</td>\n",
       "      <td>...</td>\n",
       "      <td>...</td>\n",
       "      <td>...</td>\n",
       "      <td>...</td>\n",
       "    </tr>\n",
       "    <tr>\n",
       "      <th>169094</th>\n",
       "      <td>toga*</td>\n",
       "      <td>commons-dbutils-1.7</td>\n",
       "      <td>-1</td>\n",
       "      <td>public float getNullFloat() { return this.null...</td>\n",
       "      <td>public void test324() throws Throwable { Resul...</td>\n",
       "      <td>P</td>\n",
       "    </tr>\n",
       "    <tr>\n",
       "      <th>169095</th>\n",
       "      <td>toga*</td>\n",
       "      <td>commons-dbutils-1.7</td>\n",
       "      <td>-1</td>\n",
       "      <td>public double getNullDouble() { return this.nu...</td>\n",
       "      <td>public void test325() throws Throwable { Resul...</td>\n",
       "      <td>P</td>\n",
       "    </tr>\n",
       "    <tr>\n",
       "      <th>169096</th>\n",
       "      <td>toga*</td>\n",
       "      <td>commons-dbutils-1.7</td>\n",
       "      <td>-1</td>\n",
       "      <td>public short getNullShort() { return this.null...</td>\n",
       "      <td>public void test326() throws Throwable { Resul...</td>\n",
       "      <td>P</td>\n",
       "    </tr>\n",
       "    <tr>\n",
       "      <th>169097</th>\n",
       "      <td>toga*</td>\n",
       "      <td>commons-dbutils-1.7</td>\n",
       "      <td>-1</td>\n",
       "      <td>public int getNullInt() { return this.nullInt; }</td>\n",
       "      <td>public void test327() throws Throwable { Resul...</td>\n",
       "      <td>P</td>\n",
       "    </tr>\n",
       "    <tr>\n",
       "      <th>169098</th>\n",
       "      <td>toga*</td>\n",
       "      <td>commons-dbutils-1.7</td>\n",
       "      <td>-1</td>\n",
       "      <td>public Object invoke(Object proxy, Method meth...</td>\n",
       "      <td>public void test0() throws Throwable { Proxy p...</td>\n",
       "      <td>P</td>\n",
       "    </tr>\n",
       "  </tbody>\n",
       "</table>\n",
       "<p>169099 rows × 6 columns</p>\n",
       "</div>"
      ],
      "text/plain": [
       "       dataset                         project bug_id  \\\n",
       "0        toga*  commons-imaging-1.0-alpha3-src     -1   \n",
       "1        toga*  commons-imaging-1.0-alpha3-src     -1   \n",
       "2        toga*  commons-imaging-1.0-alpha3-src     -1   \n",
       "3        toga*  commons-imaging-1.0-alpha3-src     -1   \n",
       "4        toga*  commons-imaging-1.0-alpha3-src     -1   \n",
       "...        ...                             ...    ...   \n",
       "169094   toga*             commons-dbutils-1.7     -1   \n",
       "169095   toga*             commons-dbutils-1.7     -1   \n",
       "169096   toga*             commons-dbutils-1.7     -1   \n",
       "169097   toga*             commons-dbutils-1.7     -1   \n",
       "169098   toga*             commons-dbutils-1.7     -1   \n",
       "\n",
       "                                                        C  \\\n",
       "0       public boolean isProgressive() { return progre...   \n",
       "1       public int getPhysicalWidthDpi() { return phys...   \n",
       "2       public float getPhysicalHeightInch() { return ...   \n",
       "3       public int getNumberOfImages() { return number...   \n",
       "4        public String getMimeType() { return mimeType; }   \n",
       "...                                                   ...   \n",
       "169094  public float getNullFloat() { return this.null...   \n",
       "169095  public double getNullDouble() { return this.nu...   \n",
       "169096  public short getNullShort() { return this.null...   \n",
       "169097   public int getNullInt() { return this.nullInt; }   \n",
       "169098  public Object invoke(Object proxy, Method meth...   \n",
       "\n",
       "                                                        T label  \n",
       "0       public void test21() throws Throwable { Linked...     P  \n",
       "1       public void test22() throws Throwable { Linked...     P  \n",
       "2       public void test23() throws Throwable { Linked...     P  \n",
       "3       public void test24() throws Throwable { Linked...     P  \n",
       "4       public void test25() throws Throwable { Linked...     P  \n",
       "...                                                   ...   ...  \n",
       "169094  public void test324() throws Throwable { Resul...     P  \n",
       "169095  public void test325() throws Throwable { Resul...     P  \n",
       "169096  public void test326() throws Throwable { Resul...     P  \n",
       "169097  public void test327() throws Throwable { Resul...     P  \n",
       "169098  public void test0() throws Throwable { Proxy p...     P  \n",
       "\n",
       "[169099 rows x 6 columns]"
      ]
     },
     "execution_count": 37,
     "metadata": {},
     "output_type": "execute_result"
    }
   ],
   "source": [
    "colnames = ['dataset', 'project', 'bug_id', 'C', 'T', 'docstring']\n",
    "df = pd.DataFrame(columns=colnames)\n",
    "folder_names = os.listdir(folder_dir)\n",
    "\n",
    "for project in folder_names:\n",
    "    project_path = os.path.join(folder_dir, project)\n",
    "    temp_df = pd.read_csv(project_path + '/inputs.csv')\n",
    "    temp_df.columns = ['C', 'T', 'docstring']\n",
    "    # TODO some data is missing code cases such as toga-model-inputs-outputs/commons-imaging-1.0-alpha3-src/inputs.csv\n",
    "    temp_df = temp_df.dropna()\n",
    "    # TODO\n",
    "    temp_df['dataset'] = 'toga*'\n",
    "    temp_df['project'] = project\n",
    "    temp_df['bug_id'] = \"-1\"\n",
    "    #     \"dataset\": \"Real Faults\",\n",
    "    #     \"project\": \"Chart\",\n",
    "    #     \"bug_id\": \"16\",\n",
    "    df = pd.concat([df, temp_df], ignore_index=True, axis=0)\n",
    "\n",
    "df['label'] = 'P'\n",
    "df = df.drop('docstring', axis=1)\n",
    "df['T'] = df.apply(lambda row: re.sub(r'\\s*assert.*', \"\", row['T']), axis=1)\n",
    "for col in ['C', 'T']:\n",
    "    df[col] = df[col].astype(str)\n",
    "    df[col] = df.apply(lambda row: re.sub(r'\\s\\s*', \" \", row[col].strip()), axis=1)\n",
    "    df[col] = df.apply(lambda row: re.sub(r'\\n', \"\", row[col]), axis=1)\n",
    "\n",
    "df.to_json('./phase3.json', orient='index', indent=4)\n",
    "df"
   ]
  },
  {
   "cell_type": "code",
   "execution_count": 3,
   "metadata": {},
   "outputs": [
    {
     "data": {
      "text/plain": [
       "13532"
      ]
     },
     "execution_count": 3,
     "metadata": {},
     "output_type": "execute_result"
    }
   ],
   "source": [
    "max(df.apply(lambda row: len(row['C']), axis=1))"
   ]
  },
  {
   "cell_type": "code",
   "execution_count": 4,
   "metadata": {},
   "outputs": [
    {
     "data": {
      "text/plain": [
       "6637"
      ]
     },
     "execution_count": 4,
     "metadata": {},
     "output_type": "execute_result"
    }
   ],
   "source": [
    "max(df.apply(lambda row: len(row['T']), axis=1))"
   ]
  },
  {
   "attachments": {},
   "cell_type": "markdown",
   "metadata": {},
   "source": [
    "# ddd"
   ]
  },
  {
   "cell_type": "code",
   "execution_count": 8,
   "metadata": {},
   "outputs": [
    {
     "name": "stdout",
     "output_type": "stream",
     "text": [
      "Keys: <KeysViewHDF5 ['indices', 'phrases']>\n",
      "<class 'h5py._hl.dataset.Dataset'>\n"
     ]
    }
   ],
   "source": [
    "# import h5py\n",
    "# filename = \"code_test.h5\"\n",
    "\n",
    "# with h5py.File(filename, \"r\") as f:\n",
    "#     # Print all root level object names (aka keys) \n",
    "#     # these can be group or dataset names \n",
    "#     print(\"Keys: %s\" % f.keys())\n",
    "#     # get first object name/key; may or may NOT be a group\n",
    "#     a_group_key = list(f.keys())[0]\n",
    "\n",
    "#     # get the object type for a_group_key: usually group or dataset\n",
    "#     print(type(f[a_group_key])) \n",
    "\n",
    "#     # If a_group_key is a group name, \n",
    "#     # this gets the object names in the group and returns as a list\n",
    "#     data = list(f[a_group_key])\n",
    "\n",
    "#     # If a_group_key is a dataset name, \n",
    "#     # this gets the dataset values and returns as a list\n",
    "#     data = list(f[a_group_key])\n",
    "#     # preferred methods to get dataset values:\n",
    "#     ds_obj = f[a_group_key]      # returns as a h5py dataset object\n",
    "#     ds_arr = f[a_group_key][()]  # returns as a numpy array"
   ]
  },
  {
   "attachments": {},
   "cell_type": "markdown",
   "metadata": {},
   "source": [
    "# Removing try catch blocks and making failing tests"
   ]
  },
  {
   "cell_type": "code",
   "execution_count": 11,
   "metadata": {},
   "outputs": [
    {
     "data": {
      "text/plain": [
       "'public void test12() throws Throwable { PnmImageParser pnmImageParser0 = new PnmImageParser(); SimpleBufferedImageFactory simpleBufferedImageFactory0 = new SimpleBufferedImageFactory(); BufferedImage bufferedImage0 = simpleBufferedImageFactory0.getColorBufferedImage(100, 100, true); PnmImagingParameters pnmImagingParameters0 = pnmImageParser0.getDefaultParameters(); // Undeclared exception! try { pnmImageParser0.writeImage(bufferedImage0, (OutputStream) null, pnmImagingParameters0); fail(\"Expecting exception: NullPointerException\"); } catch(NullPointerException e) { // // no message in exception (getMessage() returned null) // verifyException(\"org.apache.commons.imaging.formats.pnm.PamWriter\", e); } }'"
      ]
     },
     "execution_count": 11,
     "metadata": {},
     "output_type": "execute_result"
    }
   ],
   "source": [
    "string = df.loc[1308]['T']\n",
    "string"
   ]
  },
  {
   "cell_type": "code",
   "execution_count": 45,
   "metadata": {},
   "outputs": [
    {
     "data": {
      "text/plain": [
       "'public void test13() throws Throwable { PngImageParser pngImageParser0 = new PngImageParser(); byte[] byteArray0 = new byte[0]; PngImagingParameters pngImagingParameters0 = new PngImagingParameters();  pngImageParser0.getMetadata(byteArray0, pngImagingParameters0);   }'"
      ]
     },
     "execution_count": 45,
     "metadata": {},
     "output_type": "execute_result"
    }
   ],
   "source": [
    "df_try.loc[1309]['T']"
   ]
  },
  {
   "cell_type": "code",
   "execution_count": 39,
   "metadata": {},
   "outputs": [],
   "source": [
    "r_try = r'try\\s*{'\n",
    "r_fail = r'fail\\([^;]*;\\s*}'\n",
    "r_except = r'catch\\([^}]*\\s*}'\n",
    "\n",
    "try_except_regex = [r_try, r_fail, r_except]\n",
    "df_try = df"
   ]
  },
  {
   "cell_type": "code",
   "execution_count": 13,
   "metadata": {},
   "outputs": [],
   "source": [
    "# for regex in try_except_regex:\n",
    "#     string = re.sub(regex, \"\", string)\n",
    "# string"
   ]
  },
  {
   "cell_type": "code",
   "execution_count": 44,
   "metadata": {},
   "outputs": [],
   "source": [
    "for regex in try_except_regex:\n",
    "    df_try['label'] = df_try.apply(lambda row: \"F\" if (re.search(regex, row['T']) != None) else row['label'], axis=1)\n",
    "    df_try['T'] = df_try.apply(lambda row: re.sub(regex, \"\", row['T']), axis=1)"
   ]
  },
  {
   "cell_type": "code",
   "execution_count": 46,
   "metadata": {},
   "outputs": [],
   "source": [
    "df_try.to_json('./phase3_no_try_except.json', orient='index', indent=4)\n",
    "# df_try['T'].to_csv('./test.csv')"
   ]
  }
 ],
 "metadata": {
  "kernelspec": {
   "display_name": "cs6888",
   "language": "python",
   "name": "python3"
  },
  "language_info": {
   "codemirror_mode": {
    "name": "ipython",
    "version": 3
   },
   "file_extension": ".py",
   "mimetype": "text/x-python",
   "name": "python",
   "nbconvert_exporter": "python",
   "pygments_lexer": "ipython3",
   "version": "3.9.0"
  },
  "orig_nbformat": 4,
  "vscode": {
   "interpreter": {
    "hash": "a642d86a0cef5a98f1e368d54d6c19b2e04b73e978930163947ca93671b9ec4c"
   }
  }
 },
 "nbformat": 4,
 "nbformat_minor": 2
}
