{
 "cells": [
  {
   "attachments": {},
   "cell_type": "markdown",
   "metadata": {},
   "source": [
    "# Modifies data from TOGA* as specified below"
   ]
  },
  {
   "cell_type": "code",
   "execution_count": null,
   "metadata": {},
   "outputs": [],
   "source": [
    "# The dataset is located at : RQ2/toga-model-inputs-outputs. \n",
    "# input.csv that's the input file where each row contains three information \n",
    "    # 1. focus method (the method being tested) \n",
    "    # 2, a test case with test assertions (you will need to remove that) \n",
    "    # 3) docstring (not necessary for SEER).\n",
    "import pandas as pd\n",
    "import numpy as np\n",
    "import matplotlib.pyplot as plt\n",
    "import os\n",
    "import re\n",
    "\n",
    "folder_dir = './toga-model-inputs-outputs'"
   ]
  },
  {
   "cell_type": "code",
   "execution_count": null,
   "metadata": {},
   "outputs": [],
   "source": [
    "colnames = ['dataset', 'project', 'bug_id', 'C', 'T', 'docstring']\n",
    "df = pd.DataFrame(columns=colnames)\n",
    "folder_names = os.listdir(folder_dir)\n",
    "\n",
    "for project in folder_names:\n",
    "    project_path = os.path.join(folder_dir, project)\n",
    "    temp_df = pd.read_csv(project_path + '/inputs.csv')\n",
    "    temp_df.columns = ['C', 'T', 'docstring']\n",
    "    # TODO some data is missing code cases such as toga-model-inputs-outputs/commons-imaging-1.0-alpha3-src/inputs.csv\n",
    "    temp_df = temp_df.dropna()\n",
    "    # TODO\n",
    "    temp_df['dataset'] = 'toga*'\n",
    "    temp_df['project'] = project\n",
    "    temp_df['bug_id'] = \"-1\"\n",
    "    #     \"dataset\": \"Real Faults\",\n",
    "    #     \"project\": \"Chart\",\n",
    "    #     \"bug_id\": \"16\",\n",
    "    df = pd.concat([df, temp_df], ignore_index=True, axis=0)\n",
    "\n",
    "df['label'] = 'P'\n",
    "df = df.drop('docstring', axis=1)\n",
    "df['T'] = df.apply(lambda row: re.sub(r'\\s*assert.*', \"\", row['T']), axis=1)\n",
    "for col in ['C', 'T']:\n",
    "    df[col] = df[col].astype(str)\n",
    "    df[col] = df.apply(lambda row: re.sub(r'\\s\\s*', \" \", row[col].strip()), axis=1)\n",
    "    df[col] = df.apply(lambda row: re.sub(r'\\n', \"\", row[col]), axis=1)\n",
    "\n",
    "df.to_json('./phase3.json', orient='index')\n",
    "df"
   ]
  },
  {
   "cell_type": "code",
   "execution_count": null,
   "metadata": {},
   "outputs": [],
   "source": []
  }
 ],
 "metadata": {
  "kernelspec": {
   "display_name": "cs6888",
   "language": "python",
   "name": "python3"
  },
  "language_info": {
   "codemirror_mode": {
    "name": "ipython",
    "version": 3
   },
   "file_extension": ".py",
   "mimetype": "text/x-python",
   "name": "python",
   "nbconvert_exporter": "python",
   "pygments_lexer": "ipython3",
   "version": "3.9.0"
  },
  "orig_nbformat": 4,
  "vscode": {
   "interpreter": {
    "hash": "a642d86a0cef5a98f1e368d54d6c19b2e04b73e978930163947ca93671b9ec4c"
   }
  }
 },
 "nbformat": 4,
 "nbformat_minor": 2
}
