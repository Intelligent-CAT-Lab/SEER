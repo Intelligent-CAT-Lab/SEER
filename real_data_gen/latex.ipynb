{
 "cells": [
  {
   "cell_type": "code",
   "execution_count": 48,
   "metadata": {},
   "outputs": [],
   "source": [
    "import pandas as pd\n",
    "import re\n",
    "import os"
   ]
  },
  {
   "attachments": {},
   "cell_type": "markdown",
   "metadata": {},
   "source": [
    "# Overall Stats"
   ]
  },
  {
   "cell_type": "code",
   "execution_count": 66,
   "metadata": {},
   "outputs": [],
   "source": [
    "for val in [\"all\", \"50\", \"25\", \"10\", \"05\"]:\n",
    "    df = pd.read_csv(f\"./fold0/project_stats_{val}.csv\")\n",
    "    # Simplify project names\n",
    "    df[\"project\"] = df.apply(lambda row: re.split(r\"-\\d\", row[\"project\"])[0], axis=1)\n",
    "    df.rename(\n",
    "        columns={\n",
    "            \"accuracy\": \"acc.\",\n",
    "            \"pass_accuracy\": \"pass_acc.\",\n",
    "            \"fail_accuracy\": \"fail_acc.\",\n",
    "            \"pass_rate\": \"dataset_pass_%\",\n",
    "            \"fail_rate\": \"dataset_fail_%\",\n",
    "            \"accuracy_improvement\": \"acc_\\Delta\",\n",
    "            \"coin_accuracy\": \"coin_acc.\",\n",
    "            \"out_vocab_C_ratio\": \"missing_C_%\",\n",
    "            \"out_vocab_T_ratio\": \"missing_T_%\",\n",
    "            \"out_vocab_combined_ratio\": \"missing_token_%\",\n",
    "        },\n",
    "        inplace=True,\n",
    "    )\n",
    "\n",
    "    table1 = df[\n",
    "        [\n",
    "            \"project\",\n",
    "            \"N\",\n",
    "            \"dataset_pass_%\",\n",
    "            \"dataset_fail_%\",\n",
    "            \"missing_C_%\",\n",
    "            \"missing_T_%\",\n",
    "            \"missing_token_%\",\n",
    "        ]\n",
    "    ]\n",
    "\n",
    "    table2 = df[\n",
    "        [\n",
    "            \"project\",\n",
    "            \"acc_\\Delta\",\n",
    "            \"acc.\",\n",
    "            \"pass_acc.\",\n",
    "            \"fail_acc.\",\n",
    "            \"f1\",\n",
    "            \"coin_acc.\",\n",
    "            \"coin_f1\",\n",
    "            \"tp\",\n",
    "            \"fn\",\n",
    "            \"tn\",\n",
    "            \"fp\",\n",
    "        ]\n",
    "    ]\n",
    "\n",
    "    if val == \"all\":\n",
    "        table1.to_latex(\n",
    "            f\"./latex/overall_results/toga_dataset_stats_{val}.tex\",\n",
    "            index=False,\n",
    "            caption=f\"TOGA* Dataset Statistics\",\n",
    "            label=f\"tab:toga_stats_{val}\",\n",
    "        )\n",
    "        table2.to_latex(\n",
    "            f\"./latex/overall_results/toga_results_{val}.tex\",\n",
    "            index=False,\n",
    "            caption=f\"SEER Results on TOGA*\",\n",
    "            label=f\"tab:toga_results_{val}\",\n",
    "        )\n",
    "    else:\n",
    "        table1.to_latex(\n",
    "            f\"./latex/overall_results/toga_dataset_stats_{val}.tex\",\n",
    "            index=False,\n",
    "            caption=f\"TOGA* Dataset Statistics, restricted to minimum {val}\\% of tokens present\",\n",
    "            label=f\"tab:toga_stats_{val}\",\n",
    "        )\n",
    "        table2.to_latex(\n",
    "            f\"./latex/overall_results/toga_results_{val}.tex\",\n",
    "            index=False,\n",
    "            caption=f\"SEER Results on TOGA*, restricted to minimum {val}\\% of tokens present\",\n",
    "            label=f\"tab:toga_results_{val}\",\n",
    "        )"
   ]
  },
  {
   "cell_type": "code",
   "execution_count": 67,
   "metadata": {},
   "outputs": [],
   "source": [
    "# Fixing some LaTeX issues\n",
    "for filename in os.listdir(\"./latex/overall_results\"):\n",
    "    with open(f\"./latex/overall_results/{filename}\", \"r+\") as f:\n",
    "        text = f.read()\n",
    "        text = re.sub(r\"\\\\textbackslash Delta\", \"$\\Delta$\", text)\n",
    "        text = re.sub(\"table\", \"table*\", text)\n",
    "        f.seek(0)\n",
    "        f.write(text)\n",
    "        f.truncate()"
   ]
  },
  {
   "attachments": {},
   "cell_type": "markdown",
   "metadata": {},
   "source": [
    "# similarity"
   ]
  },
  {
   "cell_type": "code",
   "execution_count": 79,
   "metadata": {},
   "outputs": [],
   "source": [
    "df_common_unique = pd.read_csv(f\"./similarity_analysis/similarity_unique_mut.csv\")\n",
    "# Simplify project names\n",
    "df_common_unique[\"triplets\"] = df_common_unique.apply(\n",
    "    lambda row: re.split(r\"-\\d\", row[\"triplets\"])[0], axis=1\n",
    ")\n",
    "\n",
    "df_common_unique.rename(\n",
    "    columns={\n",
    "        \"phase2\": \"SEER\",\n",
    "        \"triplets\": \"TOGA*\",\n",
    "        \"triplets_unique_count\": \"TOGA*_count\",\n",
    "        \"phase2_unique_count\": \"SEER_count\",\n",
    "    },\n",
    "    inplace=True,\n",
    ")\n",
    "\n",
    "df_common_unique[['SEER', 'TOGA*', 'SEER_count', 'TOGA*_count']].to_latex(\n",
    "    f\"./latex/common_projects_unique.tex\",\n",
    "    index=False,\n",
    "    caption=f\"Unique Methods Under Test\",\n",
    "    label=f\"tab:common_unique_MUT\",\n",
    ")"
   ]
  }
 ],
 "metadata": {
  "kernelspec": {
   "display_name": "seer",
   "language": "python",
   "name": "python3"
  },
  "language_info": {
   "codemirror_mode": {
    "name": "ipython",
    "version": 3
   },
   "file_extension": ".py",
   "mimetype": "text/x-python",
   "name": "python",
   "nbconvert_exporter": "python",
   "pygments_lexer": "ipython3",
   "version": "3.6.13"
  },
  "orig_nbformat": 4
 },
 "nbformat": 4,
 "nbformat_minor": 2
}
